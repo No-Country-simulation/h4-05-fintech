{
 "cells": [
  {
   "cell_type": "code",
   "execution_count": null,
   "metadata": {},
   "outputs": [],
   "source": [
    "# Datos de usuario - datos obtenido de las tablas Onbording \n",
    "user_data = {\n",
    "    \"income_source\": \"SALARIO\",\n",
    "    \"target_period\": \"Largo plazo\",\n",
    "    \"expenses_average\": \"<30%\",\n",
    "    \"risk_tolerance\": \"Moderado\"  # Resultado del modelo ML\n",
    "}\n",
    "\n",
    "# Opciones disponibles con tolerancia al riesgo\n",
    "investment_options = {\n",
    "    \"CDEARS\": {\"income_source\": [\"SALARIO\", \"Ambos\"], \"target_period\": [\"Corto plazo\"], \"expenses_average\": [\"<30%\", \"30%-60%\"], \"risk_tolerance\": [\"Conservador\", \"Moderado\"]},\n",
    "    \"Bonos\": {\"income_source\": [\"SALARIO\", \"Ambos\"], \"target_period\": [\"Mediano plazo\", \"Largo plazo\"], \"expenses_average\": [\"<30%\", \"30%-60%\"], \"risk_tolerance\": [\"Conservador\", \"Moderado\"]},\n",
    "    \"ETFs\": {\"income_source\": [\"Ambos\", \"Trabajo independiente\"], \"target_period\": [\"Largo plazo\"], \"expenses_average\": [\"<30%\"], \"risk_tolerance\": [\"Moderado\", \"Arriesgado\"]},\n",
    "    \"Acciones\": {\"income_source\": [\"Trabajo independiente\"], \"target_period\": [\"Largo plazo\"], \"expenses_average\": [\"<30%\"], \"risk_tolerance\": [\"Arriesgado\"]},\n",
    "    \"Fondos Diversificados\": {\"income_source\": [\"Ambos\", \"Trabajo fijo\"], \"target_period\": [\"Mediano plazo\", \"Largo plazo\"], \"expenses_average\": [\"30%-60%\"], \"risk_tolerance\": [\"Moderado\"]}\n",
    "}\n",
    "\n",
    "# Función para encontrar recomendaciones\n",
    "def get_recommendations(user_data, investment_options):\n",
    "    recommendations = []\n",
    "    \n",
    "    for option, criteria in investment_options.items():\n",
    "        # Verificar si los datos del usuario cumplen con todos los criterios\n",
    "        if (\n",
    "            user_data[\"income_source\"] in criteria[\"income_source\"] and\n",
    "            user_data[\"target_period\"] in criteria[\"target_period\"] and\n",
    "            user_data[\"expenses_average\"] in criteria[\"expenses_average\"] and\n",
    "            user_data[\"risk_tolerance\"] in criteria[\"risk_tolerance\"]\n",
    "        ):\n",
    "            recommendations.append(option)\n",
    "    \n",
    "    return recommendations\n",
    "\n",
    "# Obtener recomendaciones para el usuario\n",
    "recommendations = get_recommendations(user_data, investment_options)\n",
    "\n",
    "# Mostrar resultados\n",
    "print(\"Recomendaciones basadas en su perfil:\")\n",
    "for rec in recommendations:\n",
    "    print(f\"- {rec}\")\n"
   ]
  },
  {
   "cell_type": "code",
   "execution_count": null,
   "metadata": {},
   "outputs": [],
   "source": []
  }
 ],
 "metadata": {
  "kernelspec": {
   "display_name": "Python 3",
   "language": "python",
   "name": "python3"
  },
  "language_info": {
   "name": "python",
   "version": "3.12.5"
  }
 },
 "nbformat": 4,
 "nbformat_minor": 2
}
