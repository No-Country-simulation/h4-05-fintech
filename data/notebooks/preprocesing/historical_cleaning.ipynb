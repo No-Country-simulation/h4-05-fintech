{
 "cells": [
  {
   "cell_type": "code",
   "execution_count": 18,
   "metadata": {},
   "outputs": [],
   "source": [
    "import pandas as pd"
   ]
  },
  {
   "cell_type": "code",
   "execution_count": 19,
   "metadata": {},
   "outputs": [],
   "source": [
    "df1 = pd.read_csv('/Users/samanthaestudillo/Documents/No Country/hackaton h4-05/h4-05-fintech/data/data/raw/AE38 - Cotizaciones historicas.csv')\n",
    "df2 = pd.read_csv('/Users/samanthaestudillo/Documents/No Country/hackaton h4-05/h4-05-fintech/data/data/raw/AE38D - Cotizaciones historicas.csv')\n",
    "df3 = pd.read_csv('/Users/samanthaestudillo/Documents/No Country/hackaton h4-05/h4-05-fintech/data/data/raw/AL29 - Cotizaciones historicas.csv')\n",
    "df4 = pd.read_csv('/Users/samanthaestudillo/Documents/No Country/hackaton h4-05/h4-05-fintech/data/data/raw/AL29D - Cotizaciones historicas.csv')\n",
    "df5 = pd.read_csv('/Users/samanthaestudillo/Documents/No Country/hackaton h4-05/h4-05-fintech/data/data/raw/AL30 - Cotizaciones historicas.csv')\n",
    "df6 = pd.read_csv('/Users/samanthaestudillo/Documents/No Country/hackaton h4-05/h4-05-fintech/data/data/raw/AL30D - Cotizaciones historicas.csv')"
   ]
  },
  {
   "cell_type": "code",
   "execution_count": 20,
   "metadata": {},
   "outputs": [
    {
     "name": "stdout",
     "output_type": "stream",
     "text": [
      "Dataset 1:\n",
      "  Fecha más antigua: 2020-09-07 00:00:00\n",
      "  Fecha más reciente: 2025-01-24 00:00:00\n",
      "------------------------------\n",
      "Dataset 2:\n",
      "  Fecha más antigua: 2020-09-14 00:00:00\n",
      "  Fecha más reciente: 2025-01-24 00:00:00\n",
      "------------------------------\n",
      "Dataset 3:\n",
      "  Fecha más antigua: 2020-09-07 00:00:00\n",
      "  Fecha más reciente: 2025-01-24 00:00:00\n",
      "------------------------------\n",
      "Dataset 4:\n",
      "  Fecha más antigua: 2020-09-14 00:00:00\n",
      "  Fecha más reciente: 2025-01-24 00:00:00\n",
      "------------------------------\n",
      "Dataset 5:\n",
      "  Fecha más antigua: 2020-09-07 00:00:00\n",
      "  Fecha más reciente: 2025-01-24 00:00:00\n",
      "------------------------------\n",
      "Dataset 6:\n",
      "  Fecha más antigua: 2020-09-14 00:00:00\n",
      "  Fecha más reciente: 2025-01-24 00:00:00\n",
      "------------------------------\n"
     ]
    }
   ],
   "source": [
    "datasets = [df1, df2, df3, df4, df5, df6]\n",
    "\n",
    "for i, df in enumerate(datasets, start=1):\n",
    "    df['fecha'] = pd.to_datetime(df['fecha'])\n",
    "    \n",
    "    fecha_mas_antigua = df['fecha'].min()\n",
    "    fecha_mas_reciente = df['fecha'].max()\n",
    "    \n",
    "    print(f\"Dataset {i}:\")\n",
    "    print(f\"  Fecha más antigua: {fecha_mas_antigua}\")\n",
    "    print(f\"  Fecha más reciente: {fecha_mas_reciente}\")\n",
    "    print(\"-\" * 30)\n"
   ]
  },
  {
   "cell_type": "code",
   "execution_count": 24,
   "metadata": {},
   "outputs": [
    {
     "name": "stdout",
     "output_type": "stream",
     "text": [
      "Dataset 1 filtrado:\n",
      "    especie      fecha  apertura  maximo  minimo  cierre  volumen   timestamp\n",
      "321    AE38 2022-01-03    7301.0  7380.0  7301.0  7355.0   213143  1641178800\n",
      "322    AE38 2022-01-04    7345.0  7345.0  7245.0  7294.0   518487  1641265200\n",
      "323    AE38 2022-01-05    7230.0  7299.5  7210.0  7290.0   648362  1641351600\n",
      "324    AE38 2022-01-06    7100.0  7199.0  7050.0  7065.0   585065  1641438000\n",
      "325    AE38 2022-01-07    7050.0  7050.0  6956.0  6965.0   920473  1641524400\n",
      "------------------------------\n",
      "Dataset 1 filtrado guardado como dataset_1_filtrado.csv\n",
      "Dataset 2 filtrado:\n",
      "    especie      fecha  apertura  maximo  minimo  cierre  volumen   timestamp\n",
      "315   AE38D 2022-01-03      37.1    37.4    37.0    37.4    65526  1641178800\n",
      "316   AE38D 2022-01-04      37.4    37.4    36.7    37.1   191413  1641265200\n",
      "317   AE38D 2022-01-05      37.0    37.0    36.8    36.8   149979  1641351600\n",
      "318   AE38D 2022-01-06      36.6    36.6    35.0    35.5    87053  1641438000\n",
      "319   AE38D 2022-01-07      35.6    35.6    34.9    35.0     9350  1641524400\n",
      "------------------------------\n",
      "Dataset 2 filtrado guardado como dataset_2_filtrado.csv\n",
      "Dataset 3 filtrado:\n",
      "    especie      fecha  apertura  maximo  minimo  cierre  volumen   timestamp\n",
      "321    AL29 2022-01-03    6970.0  7030.0  6860.5  6979.0   102778  1641178800\n",
      "322    AL29 2022-01-04    6975.5  7000.0  6890.0  6890.0   157136  1641265200\n",
      "323    AL29 2022-01-05    6882.0  6940.0  6734.0  6784.0   530530  1641351600\n",
      "324    AL29 2022-01-06    6767.0  6850.0  6550.0  6679.0   274689  1641438000\n",
      "325    AL29 2022-01-07    6557.0  6642.0  6500.0  6560.0    83302  1641524400\n",
      "------------------------------\n",
      "Dataset 3 filtrado guardado como dataset_3_filtrado.csv\n",
      "Dataset 4 filtrado:\n",
      "    especie      fecha  apertura  maximo  minimo  cierre  volumen   timestamp\n",
      "316   AL29D 2022-01-03      34.5    35.2   34.15   34.95     8010  1641178800\n",
      "317   AL29D 2022-01-04      34.7    35.5   34.11   34.60    66597  1641265200\n",
      "318   AL29D 2022-01-05      34.4    34.5   34.05   34.79    10870  1641351600\n",
      "319   AL29D 2022-01-06      34.0    34.0   33.15   33.46    28454  1641438000\n",
      "320   AL29D 2022-01-07      33.1    33.1   32.20   32.20    24121  1641524400\n",
      "------------------------------\n",
      "Dataset 4 filtrado guardado como dataset_4_filtrado.csv\n",
      "Dataset 5 filtrado:\n",
      "    especie      fecha  apertura  maximo  minimo  cierre   volumen   timestamp\n",
      "321    AL30 2022-01-03    6478.0  6574.0  6470.0  6554.5  12766468  1641178800\n",
      "322    AL30 2022-01-04    6560.0  6597.0  6451.0  6465.0  21871418  1641265200\n",
      "323    AL30 2022-01-05    6495.0  6500.0  6381.0  6410.0  19998424  1641351600\n",
      "324    AL30 2022-01-06    6330.0  6360.0  6250.0  6271.0  18756240  1641438000\n",
      "325    AL30 2022-01-07    6244.0  6270.0  6123.0  6160.0  13878812  1641524400\n",
      "------------------------------\n",
      "Dataset 5 filtrado guardado como dataset_5_filtrado.csv\n",
      "Dataset 6 filtrado:\n",
      "    especie      fecha  apertura  maximo  minimo  cierre  volumen   timestamp\n",
      "316   AL30D 2022-01-03     32.70   33.35   32.45   33.06  2665470  1641178800\n",
      "317   AL30D 2022-01-04     32.54   32.94   32.30   32.75  2477311  1641265200\n",
      "318   AL30D 2022-01-05     32.29   32.62   32.15   32.20  2073849  1641351600\n",
      "319   AL30D 2022-01-06     31.50   31.50   30.59   31.03  2149910  1641438000\n",
      "320   AL30D 2022-01-07     30.90   30.90   30.19   30.22  2123015  1641524400\n",
      "------------------------------\n",
      "Dataset 6 filtrado guardado como dataset_6_filtrado.csv\n"
     ]
    }
   ],
   "source": [
    "# definir la fecha de inicio (1 de enero de 2022)\n",
    "fecha_inicio = pd.Timestamp(\"2022-01-01\")\n",
    "\n",
    "datasets_filtrados = []\n",
    "\n",
    "for i, df in enumerate(datasets, start=1):\n",
    "    \n",
    "    datos_filtrados = df[df['fecha'] >= fecha_inicio]\n",
    "    \n",
    "    datasets_filtrados.append(datos_filtrados)\n",
    "    \n",
    "    print(f\"Dataset {i} filtrado:\")\n",
    "    print(datos_filtrados.head())\n",
    "    print(\"-\" * 30)\n",
    "\n",
    "# Guardar el dataset filtrado en un archivo CSV\n",
    "    nombre_archivo = f\"dataset_{i}_filtrado.csv\"\n",
    "    datos_filtrados.to_csv(nombre_archivo, index=False)\n",
    "    \n",
    "    # Mostrar mensaje de confirmación\n",
    "    print(f\"Dataset {i} filtrado guardado como {nombre_archivo}\")\n"
   ]
  }
 ],
 "metadata": {
  "kernelspec": {
   "display_name": ".venv",
   "language": "python",
   "name": "python3"
  },
  "language_info": {
   "codemirror_mode": {
    "name": "ipython",
    "version": 3
   },
   "file_extension": ".py",
   "mimetype": "text/x-python",
   "name": "python",
   "nbconvert_exporter": "python",
   "pygments_lexer": "ipython3",
   "version": "3.12.1"
  }
 },
 "nbformat": 4,
 "nbformat_minor": 2
}
